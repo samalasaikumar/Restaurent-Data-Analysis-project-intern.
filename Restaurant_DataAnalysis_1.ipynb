{
  "nbformat": 4,
  "nbformat_minor": 0,
  "metadata": {
    "colab": {
      "provenance": [],
      "include_colab_link": true
    },
    "kernelspec": {
      "name": "python3",
      "display_name": "Python 3"
    },
    "language_info": {
      "name": "python"
    }
  },
  "cells": [
    {
      "cell_type": "markdown",
      "metadata": {
        "id": "view-in-github",
        "colab_type": "text"
      },
      "source": [
        "<a href=\"https://colab.research.google.com/github/samalasaikumar/Restaurent-Data-Analysis-project-intern./blob/main/Restaurant_DataAnalysis_1.ipynb\" target=\"_parent\"><img src=\"https://colab.research.google.com/assets/colab-badge.svg\" alt=\"Open In Colab\"/></a>"
      ]
    },
    {
      "cell_type": "markdown",
      "metadata": {
        "id": "vncDsAP0Gaoa"
      },
      "source": [
        "# **Project Name**    - Restaurant Data Analysis 1\n",
        "\n",
        "---\n",
        "\n",
        "\n"
      ]
    },
    {
      "cell_type": "markdown",
      "metadata": {
        "id": "FJNUwmbgGyua"
      },
      "source": [
        "# **Project Summary -**"
      ]
    },
    {
      "cell_type": "markdown",
      "metadata": {
        "id": "F6v_1wHtG2nS"
      },
      "source": [
        "This level 1 tasks of the project focuses on analyzing restaurant data, exploring insights from a dataset consisting of different restaurants name, city, address, locality, rating, price range etc.\n",
        "\n",
        "The Level 1 tasks undertaken during the Cognifyz Data Science Internship, focusing on data exploration and preprocessing, descriptive analysis, and geospatial analysis of restaurant data. It will be interesting to explore what all other insights can be obtained from the same dataset.\n",
        "\n",
        "**Level 1 Tasks:**\n",
        "\n",
        "**Task 1: Data Exploration and Preprocessing**\n",
        "\n",
        "- Explored the restaurant dataset, determining its dimensions.\n",
        "- Managed missing values across columns, ensuring data integrity.\n",
        "- Executed data type conversions as needed.\n",
        "- Analyzed the distribution of the target variable, \"Aggregate rating,\" and addressed class imbalances.\n",
        "\n",
        "**Task 2: Descriptive Analysis**\n",
        "\n",
        "- Calculated fundamental statistical measures (e.g., mean, median, standard deviation) for numerical columns.\n",
        "- Investigated the distribution of categorical variables like \"Country Code,\" \"City,\" and \"Cuisines.\"\n",
        "- Identified the top cuisines and cities with the highest restaurant counts.\n",
        "\n",
        "\n",
        "**Task 3: Geospatial Analysis**\n",
        "\n",
        "- Visualized restaurant locations on maps using latitude and longitude data.\n",
        "- Conducted an analysis of restaurant distribution across different cities and countries.\n",
        "- Explored potential correlations between restaurant locations and ratings.\n",
        "\n",
        "So, this notebook consist of all the Level 1 tasks which i completed during the Cognifyz Data Science Internship. The tasks encompass data exploration, data preprocessing, statistical analysis, and geospatial insights within the restaurant industry, demonstrating a foundational understanding of data science principles."
      ]
    },
    {
      "cell_type": "markdown",
      "metadata": {
        "id": "w6K7xa23Elo4"
      },
      "source": [
        "# **GitHub Link -**"
      ]
    },
    {
      "cell_type": "markdown",
      "metadata": {
        "id": "h1o69JH3Eqqn"
      },
      "source": [
        "**GitHub Link:**\n",
        "https://github.com/samalasaikumar/Restaurent-Data-Analysis-project-intern./upload/main"
      ]
    },
    {
      "cell_type": "markdown",
      "metadata": {
        "id": "yQaldy8SH6Dl"
      },
      "source": [
        "# **Problem Statement**\n"
      ]
    },
    {
      "cell_type": "markdown",
      "metadata": {
        "id": "DpeJGUA3kjGy"
      },
      "source": [
        "The Level 1 of the Cognifyz Data Science Internship, focuses on the exploration and analysis of a restaurant dataset. The level comprises three key tasks: Data Exploration and Preprocessing, Descriptive Analysis, and Geospatial Analysis.\n",
        "\n",
        "**Project Objectives:**\n",
        "\n",
        "- Gain proficiency in data exploration and preprocessing.\n",
        "- Perform descriptive analysis to understand dataset characteristics.\n",
        "- Apply geospatial analysis techniques to uncover location-based insights.\n",
        "- Develop foundational data science skills for the restaurant industry.\n",
        "\n",
        "**Key Tasks in Level 1:**\n",
        "\n",
        "**Task 1: Data Exploration and Preprocessing**\n",
        "\n",
        "- Explore the dataset to understand its structure, including the number of rows and columns.\n",
        "- Address missing values in each column, ensuring data integrity.\n",
        "- Perform data type conversions as necessary.\n",
        "- Analyze the distribution of the target variable (\"Aggregate rating\") and identify potential class imbalances.\n",
        "\n",
        "**Task 2: Descriptive Analysis**\n",
        "\n",
        "- Calculate essential statistical measures (e.g., mean, median, standard deviation) for numerical columns.\n",
        "- Investigate the distribution of categorical variables, such as \"Country Code,\" \"City,\" and \"Cuisines.\"\n",
        "- Identify the top cuisines and cities with the highest number of restaurants, gaining insights into customer preferences.\n",
        "\n",
        "**Task 3: Geospatial Analysis**\n",
        "\n",
        "- Visualize restaurant locations using latitude and longitude information, providing a spatial perspective.\n",
        "- Analyze the geographical distribution of restaurants across different cities and countries.\n",
        "- Explore potential correlations between the restaurant's location and its rating, uncovering location-based patterns."
      ]
    },
    {
      "cell_type": "markdown",
      "source": [
        "# ***Let's Begin***"
      ],
      "metadata": {
        "id": "PG-Wmn_iKIOo"
      }
    },
    {
      "cell_type": "markdown",
      "source": [
        "## ***Task 1: Data Exploration and Preprocessing***"
      ],
      "metadata": {
        "id": "PqB7TMVXKZFY"
      }
    },
    {
      "cell_type": "markdown",
      "metadata": {
        "id": "Y3lxredqlCYt"
      },
      "source": [
        "### Import Libraries"
      ]
    },
    {
      "cell_type": "code",
      "execution_count": 26,
      "metadata": {
        "id": "M8Vqi-pPk-HR"
      },
      "outputs": [],
      "source": [
        "# Importing Libraries\n",
        "import pandas as pd\n",
        "import numpy as np\n",
        "\n",
        "# Visualization Libraries\n",
        "import matplotlib.pyplot as plt\n",
        "%matplotlib inline\n",
        "import seaborn as sns\n",
        "\n",
        "# Ignore all warnings\n",
        "import warnings\n",
        "\n",
        "warnings.filterwarnings('ignore')"
      ]
    },
    {
      "cell_type": "markdown",
      "metadata": {
        "id": "3RnN4peoiCZX"
      },
      "source": [
        "### Dataset Loading"
      ]
    },
    {
      "cell_type": "code",
      "execution_count": 27,
      "metadata": {
        "id": "4CkvbW_SlZ_R"
      },
      "outputs": [],
      "source": [
        "# Load Dataset from github repository\n",
        "df = pd.read_csv(\"https://raw.githubusercontent.com/Apaulgithub/Restaurant_Data_Analysis_and_Prediction/main/Dataset.csv\")"
      ]
    },
    {
      "cell_type": "markdown",
      "metadata": {
        "id": "x71ZqKXriCWQ"
      },
      "source": [
        "### Dataset First View"
      ]
    },
    {
      "cell_type": "code",
      "execution_count": 28,
      "metadata": {
        "id": "LWNFOSvLl09H",
        "colab": {
          "base_uri": "https://localhost:8080/",
          "height": 810
        },
        "outputId": "6462cfc2-586f-4159-a28e-c5d62f743f8c"
      },
      "outputs": [
        {
          "output_type": "execute_result",
          "data": {
            "text/plain": [
              "   Restaurant ID         Restaurant Name  Country Code              City  \\\n",
              "0        6317637        Le Petit Souffle           162       Makati City   \n",
              "1        6304287        Izakaya Kikufuji           162       Makati City   \n",
              "2        6300002  Heat - Edsa Shangri-La           162  Mandaluyong City   \n",
              "3        6318506                    Ooma           162  Mandaluyong City   \n",
              "4        6314302             Sambo Kojin           162  Mandaluyong City   \n",
              "\n",
              "                                             Address  \\\n",
              "0  Third Floor, Century City Mall, Kalayaan Avenu...   \n",
              "1  Little Tokyo, 2277 Chino Roces Avenue, Legaspi...   \n",
              "2  Edsa Shangri-La, 1 Garden Way, Ortigas, Mandal...   \n",
              "3  Third Floor, Mega Fashion Hall, SM Megamall, O...   \n",
              "4  Third Floor, Mega Atrium, SM Megamall, Ortigas...   \n",
              "\n",
              "                                     Locality  \\\n",
              "0   Century City Mall, Poblacion, Makati City   \n",
              "1  Little Tokyo, Legaspi Village, Makati City   \n",
              "2  Edsa Shangri-La, Ortigas, Mandaluyong City   \n",
              "3      SM Megamall, Ortigas, Mandaluyong City   \n",
              "4      SM Megamall, Ortigas, Mandaluyong City   \n",
              "\n",
              "                                    Locality Verbose   Longitude   Latitude  \\\n",
              "0  Century City Mall, Poblacion, Makati City, Mak...  121.027535  14.565443   \n",
              "1  Little Tokyo, Legaspi Village, Makati City, Ma...  121.014101  14.553708   \n",
              "2  Edsa Shangri-La, Ortigas, Mandaluyong City, Ma...  121.056831  14.581404   \n",
              "3  SM Megamall, Ortigas, Mandaluyong City, Mandal...  121.056475  14.585318   \n",
              "4  SM Megamall, Ortigas, Mandaluyong City, Mandal...  121.057508  14.584450   \n",
              "\n",
              "                           Cuisines  ...          Currency Has Table booking  \\\n",
              "0        French, Japanese, Desserts  ...  Botswana Pula(P)               Yes   \n",
              "1                          Japanese  ...  Botswana Pula(P)               Yes   \n",
              "2  Seafood, Asian, Filipino, Indian  ...  Botswana Pula(P)               Yes   \n",
              "3                   Japanese, Sushi  ...  Botswana Pula(P)                No   \n",
              "4                  Japanese, Korean  ...  Botswana Pula(P)               Yes   \n",
              "\n",
              "  Has Online delivery Is delivering now Switch to order menu Price range  \\\n",
              "0                  No                No                   No           3   \n",
              "1                  No                No                   No           3   \n",
              "2                  No                No                   No           4   \n",
              "3                  No                No                   No           4   \n",
              "4                  No                No                   No           4   \n",
              "\n",
              "   Aggregate rating  Rating color Rating text Votes  \n",
              "0               4.8    Dark Green   Excellent   314  \n",
              "1               4.5    Dark Green   Excellent   591  \n",
              "2               4.4         Green   Very Good   270  \n",
              "3               4.9    Dark Green   Excellent   365  \n",
              "4               4.8    Dark Green   Excellent   229  \n",
              "\n",
              "[5 rows x 21 columns]"
            ],
            "text/html": [
              "\n",
              "  <div id=\"df-5a9030f6-2d12-4603-920e-ec12856902ec\" class=\"colab-df-container\">\n",
              "    <div>\n",
              "<style scoped>\n",
              "    .dataframe tbody tr th:only-of-type {\n",
              "        vertical-align: middle;\n",
              "    }\n",
              "\n",
              "    .dataframe tbody tr th {\n",
              "        vertical-align: top;\n",
              "    }\n",
              "\n",
              "    .dataframe thead th {\n",
              "        text-align: right;\n",
              "    }\n",
              "</style>\n",
              "<table border=\"1\" class=\"dataframe\">\n",
              "  <thead>\n",
              "    <tr style=\"text-align: right;\">\n",
              "      <th></th>\n",
              "      <th>Restaurant ID</th>\n",
              "      <th>Restaurant Name</th>\n",
              "      <th>Country Code</th>\n",
              "      <th>City</th>\n",
              "      <th>Address</th>\n",
              "      <th>Locality</th>\n",
              "      <th>Locality Verbose</th>\n",
              "      <th>Longitude</th>\n",
              "      <th>Latitude</th>\n",
              "      <th>Cuisines</th>\n",
              "      <th>...</th>\n",
              "      <th>Currency</th>\n",
              "      <th>Has Table booking</th>\n",
              "      <th>Has Online delivery</th>\n",
              "      <th>Is delivering now</th>\n",
              "      <th>Switch to order menu</th>\n",
              "      <th>Price range</th>\n",
              "      <th>Aggregate rating</th>\n",
              "      <th>Rating color</th>\n",
              "      <th>Rating text</th>\n",
              "      <th>Votes</th>\n",
              "    </tr>\n",
              "  </thead>\n",
              "  <tbody>\n",
              "    <tr>\n",
              "      <th>0</th>\n",
              "      <td>6317637</td>\n",
              "      <td>Le Petit Souffle</td>\n",
              "      <td>162</td>\n",
              "      <td>Makati City</td>\n",
              "      <td>Third Floor, Century City Mall, Kalayaan Avenu...</td>\n",
              "      <td>Century City Mall, Poblacion, Makati City</td>\n",
              "      <td>Century City Mall, Poblacion, Makati City, Mak...</td>\n",
              "      <td>121.027535</td>\n",
              "      <td>14.565443</td>\n",
              "      <td>French, Japanese, Desserts</td>\n",
              "      <td>...</td>\n",
              "      <td>Botswana Pula(P)</td>\n",
              "      <td>Yes</td>\n",
              "      <td>No</td>\n",
              "      <td>No</td>\n",
              "      <td>No</td>\n",
              "      <td>3</td>\n",
              "      <td>4.8</td>\n",
              "      <td>Dark Green</td>\n",
              "      <td>Excellent</td>\n",
              "      <td>314</td>\n",
              "    </tr>\n",
              "    <tr>\n",
              "      <th>1</th>\n",
              "      <td>6304287</td>\n",
              "      <td>Izakaya Kikufuji</td>\n",
              "      <td>162</td>\n",
              "      <td>Makati City</td>\n",
              "      <td>Little Tokyo, 2277 Chino Roces Avenue, Legaspi...</td>\n",
              "      <td>Little Tokyo, Legaspi Village, Makati City</td>\n",
              "      <td>Little Tokyo, Legaspi Village, Makati City, Ma...</td>\n",
              "      <td>121.014101</td>\n",
              "      <td>14.553708</td>\n",
              "      <td>Japanese</td>\n",
              "      <td>...</td>\n",
              "      <td>Botswana Pula(P)</td>\n",
              "      <td>Yes</td>\n",
              "      <td>No</td>\n",
              "      <td>No</td>\n",
              "      <td>No</td>\n",
              "      <td>3</td>\n",
              "      <td>4.5</td>\n",
              "      <td>Dark Green</td>\n",
              "      <td>Excellent</td>\n",
              "      <td>591</td>\n",
              "    </tr>\n",
              "    <tr>\n",
              "      <th>2</th>\n",
              "      <td>6300002</td>\n",
              "      <td>Heat - Edsa Shangri-La</td>\n",
              "      <td>162</td>\n",
              "      <td>Mandaluyong City</td>\n",
              "      <td>Edsa Shangri-La, 1 Garden Way, Ortigas, Mandal...</td>\n",
              "      <td>Edsa Shangri-La, Ortigas, Mandaluyong City</td>\n",
              "      <td>Edsa Shangri-La, Ortigas, Mandaluyong City, Ma...</td>\n",
              "      <td>121.056831</td>\n",
              "      <td>14.581404</td>\n",
              "      <td>Seafood, Asian, Filipino, Indian</td>\n",
              "      <td>...</td>\n",
              "      <td>Botswana Pula(P)</td>\n",
              "      <td>Yes</td>\n",
              "      <td>No</td>\n",
              "      <td>No</td>\n",
              "      <td>No</td>\n",
              "      <td>4</td>\n",
              "      <td>4.4</td>\n",
              "      <td>Green</td>\n",
              "      <td>Very Good</td>\n",
              "      <td>270</td>\n",
              "    </tr>\n",
              "    <tr>\n",
              "      <th>3</th>\n",
              "      <td>6318506</td>\n",
              "      <td>Ooma</td>\n",
              "      <td>162</td>\n",
              "      <td>Mandaluyong City</td>\n",
              "      <td>Third Floor, Mega Fashion Hall, SM Megamall, O...</td>\n",
              "      <td>SM Megamall, Ortigas, Mandaluyong City</td>\n",
              "      <td>SM Megamall, Ortigas, Mandaluyong City, Mandal...</td>\n",
              "      <td>121.056475</td>\n",
              "      <td>14.585318</td>\n",
              "      <td>Japanese, Sushi</td>\n",
              "      <td>...</td>\n",
              "      <td>Botswana Pula(P)</td>\n",
              "      <td>No</td>\n",
              "      <td>No</td>\n",
              "      <td>No</td>\n",
              "      <td>No</td>\n",
              "      <td>4</td>\n",
              "      <td>4.9</td>\n",
              "      <td>Dark Green</td>\n",
              "      <td>Excellent</td>\n",
              "      <td>365</td>\n",
              "    </tr>\n",
              "    <tr>\n",
              "      <th>4</th>\n",
              "      <td>6314302</td>\n",
              "      <td>Sambo Kojin</td>\n",
              "      <td>162</td>\n",
              "      <td>Mandaluyong City</td>\n",
              "      <td>Third Floor, Mega Atrium, SM Megamall, Ortigas...</td>\n",
              "      <td>SM Megamall, Ortigas, Mandaluyong City</td>\n",
              "      <td>SM Megamall, Ortigas, Mandaluyong City, Mandal...</td>\n",
              "      <td>121.057508</td>\n",
              "      <td>14.584450</td>\n",
              "      <td>Japanese, Korean</td>\n",
              "      <td>...</td>\n",
              "      <td>Botswana Pula(P)</td>\n",
              "      <td>Yes</td>\n",
              "      <td>No</td>\n",
              "      <td>No</td>\n",
              "      <td>No</td>\n",
              "      <td>4</td>\n",
              "      <td>4.8</td>\n",
              "      <td>Dark Green</td>\n",
              "      <td>Excellent</td>\n",
              "      <td>229</td>\n",
              "    </tr>\n",
              "  </tbody>\n",
              "</table>\n",
              "<p>5 rows × 21 columns</p>\n",
              "</div>\n",
              "    <div class=\"colab-df-buttons\">\n",
              "\n",
              "  <div class=\"colab-df-container\">\n",
              "    <button class=\"colab-df-convert\" onclick=\"convertToInteractive('df-5a9030f6-2d12-4603-920e-ec12856902ec')\"\n",
              "            title=\"Convert this dataframe to an interactive table.\"\n",
              "            style=\"display:none;\">\n",
              "\n",
              "  <svg xmlns=\"http://www.w3.org/2000/svg\" height=\"24px\" viewBox=\"0 -960 960 960\">\n",
              "    <path d=\"M120-120v-720h720v720H120Zm60-500h600v-160H180v160Zm220 220h160v-160H400v160Zm0 220h160v-160H400v160ZM180-400h160v-160H180v160Zm440 0h160v-160H620v160ZM180-180h160v-160H180v160Zm440 0h160v-160H620v160Z\"/>\n",
              "  </svg>\n",
              "    </button>\n",
              "\n",
              "  <style>\n",
              "    .colab-df-container {\n",
              "      display:flex;\n",
              "      gap: 12px;\n",
              "    }\n",
              "\n",
              "    .colab-df-convert {\n",
              "      background-color: #E8F0FE;\n",
              "      border: none;\n",
              "      border-radius: 50%;\n",
              "      cursor: pointer;\n",
              "      display: none;\n",
              "      fill: #1967D2;\n",
              "      height: 32px;\n",
              "      padding: 0 0 0 0;\n",
              "      width: 32px;\n",
              "    }\n",
              "\n",
              "    .colab-df-convert:hover {\n",
              "      background-color: #E2EBFA;\n",
              "      box-shadow: 0px 1px 2px rgba(60, 64, 67, 0.3), 0px 1px 3px 1px rgba(60, 64, 67, 0.15);\n",
              "      fill: #174EA6;\n",
              "    }\n",
              "\n",
              "    .colab-df-buttons div {\n",
              "      margin-bottom: 4px;\n",
              "    }\n",
              "\n",
              "    [theme=dark] .colab-df-convert {\n",
              "      background-color: #3B4455;\n",
              "      fill: #D2E3FC;\n",
              "    }\n",
              "\n",
              "    [theme=dark] .colab-df-convert:hover {\n",
              "      background-color: #434B5C;\n",
              "      box-shadow: 0px 1px 3px 1px rgba(0, 0, 0, 0.15);\n",
              "      filter: drop-shadow(0px 1px 2px rgba(0, 0, 0, 0.3));\n",
              "      fill: #FFFFFF;\n",
              "    }\n",
              "  </style>\n",
              "\n",
              "    <script>\n",
              "      const buttonEl =\n",
              "        document.querySelector('#df-5a9030f6-2d12-4603-920e-ec12856902ec button.colab-df-convert');\n",
              "      buttonEl.style.display =\n",
              "        google.colab.kernel.accessAllowed ? 'block' : 'none';\n",
              "\n",
              "      async function convertToInteractive(key) {\n",
              "        const element = document.querySelector('#df-5a9030f6-2d12-4603-920e-ec12856902ec');\n",
              "        const dataTable =\n",
              "          await google.colab.kernel.invokeFunction('convertToInteractive',\n",
              "                                                    [key], {});\n",
              "        if (!dataTable) return;\n",
              "\n",
              "        const docLinkHtml = 'Like what you see? Visit the ' +\n",
              "          '<a target=\"_blank\" href=https://colab.research.google.com/notebooks/data_table.ipynb>data table notebook</a>'\n",
              "          + ' to learn more about interactive tables.';\n",
              "        element.innerHTML = '';\n",
              "        dataTable['output_type'] = 'display_data';\n",
              "        await google.colab.output.renderOutput(dataTable, element);\n",
              "        const docLink = document.createElement('div');\n",
              "        docLink.innerHTML = docLinkHtml;\n",
              "        element.appendChild(docLink);\n",
              "      }\n",
              "    </script>\n",
              "  </div>\n",
              "\n",
              "\n",
              "<div id=\"df-f0278f12-4edc-4f56-8cd0-8b9a59cecc10\">\n",
              "  <button class=\"colab-df-quickchart\" onclick=\"quickchart('df-f0278f12-4edc-4f56-8cd0-8b9a59cecc10')\"\n",
              "            title=\"Suggest charts\"\n",
              "            style=\"display:none;\">\n",
              "\n",
              "<svg xmlns=\"http://www.w3.org/2000/svg\" height=\"24px\"viewBox=\"0 0 24 24\"\n",
              "     width=\"24px\">\n",
              "    <g>\n",
              "        <path d=\"M19 3H5c-1.1 0-2 .9-2 2v14c0 1.1.9 2 2 2h14c1.1 0 2-.9 2-2V5c0-1.1-.9-2-2-2zM9 17H7v-7h2v7zm4 0h-2V7h2v10zm4 0h-2v-4h2v4z\"/>\n",
              "    </g>\n",
              "</svg>\n",
              "  </button>\n",
              "\n",
              "<style>\n",
              "  .colab-df-quickchart {\n",
              "      --bg-color: #E8F0FE;\n",
              "      --fill-color: #1967D2;\n",
              "      --hover-bg-color: #E2EBFA;\n",
              "      --hover-fill-color: #174EA6;\n",
              "      --disabled-fill-color: #AAA;\n",
              "      --disabled-bg-color: #DDD;\n",
              "  }\n",
              "\n",
              "  [theme=dark] .colab-df-quickchart {\n",
              "      --bg-color: #3B4455;\n",
              "      --fill-color: #D2E3FC;\n",
              "      --hover-bg-color: #434B5C;\n",
              "      --hover-fill-color: #FFFFFF;\n",
              "      --disabled-bg-color: #3B4455;\n",
              "      --disabled-fill-color: #666;\n",
              "  }\n",
              "\n",
              "  .colab-df-quickchart {\n",
              "    background-color: var(--bg-color);\n",
              "    border: none;\n",
              "    border-radius: 50%;\n",
              "    cursor: pointer;\n",
              "    display: none;\n",
              "    fill: var(--fill-color);\n",
              "    height: 32px;\n",
              "    padding: 0;\n",
              "    width: 32px;\n",
              "  }\n",
              "\n",
              "  .colab-df-quickchart:hover {\n",
              "    background-color: var(--hover-bg-color);\n",
              "    box-shadow: 0 1px 2px rgba(60, 64, 67, 0.3), 0 1px 3px 1px rgba(60, 64, 67, 0.15);\n",
              "    fill: var(--button-hover-fill-color);\n",
              "  }\n",
              "\n",
              "  .colab-df-quickchart-complete:disabled,\n",
              "  .colab-df-quickchart-complete:disabled:hover {\n",
              "    background-color: var(--disabled-bg-color);\n",
              "    fill: var(--disabled-fill-color);\n",
              "    box-shadow: none;\n",
              "  }\n",
              "\n",
              "  .colab-df-spinner {\n",
              "    border: 2px solid var(--fill-color);\n",
              "    border-color: transparent;\n",
              "    border-bottom-color: var(--fill-color);\n",
              "    animation:\n",
              "      spin 1s steps(1) infinite;\n",
              "  }\n",
              "\n",
              "  @keyframes spin {\n",
              "    0% {\n",
              "      border-color: transparent;\n",
              "      border-bottom-color: var(--fill-color);\n",
              "      border-left-color: var(--fill-color);\n",
              "    }\n",
              "    20% {\n",
              "      border-color: transparent;\n",
              "      border-left-color: var(--fill-color);\n",
              "      border-top-color: var(--fill-color);\n",
              "    }\n",
              "    30% {\n",
              "      border-color: transparent;\n",
              "      border-left-color: var(--fill-color);\n",
              "      border-top-color: var(--fill-color);\n",
              "      border-right-color: var(--fill-color);\n",
              "    }\n",
              "    40% {\n",
              "      border-color: transparent;\n",
              "      border-right-color: var(--fill-color);\n",
              "      border-top-color: var(--fill-color);\n",
              "    }\n",
              "    60% {\n",
              "      border-color: transparent;\n",
              "      border-right-color: var(--fill-color);\n",
              "    }\n",
              "    80% {\n",
              "      border-color: transparent;\n",
              "      border-right-color: var(--fill-color);\n",
              "      border-bottom-color: var(--fill-color);\n",
              "    }\n",
              "    90% {\n",
              "      border-color: transparent;\n",
              "      border-bottom-color: var(--fill-color);\n",
              "    }\n",
              "  }\n",
              "</style>\n",
              "\n",
              "  <script>\n",
              "    async function quickchart(key) {\n",
              "      const quickchartButtonEl =\n",
              "        document.querySelector('#' + key + ' button');\n",
              "      quickchartButtonEl.disabled = true;  // To prevent multiple clicks.\n",
              "      quickchartButtonEl.classList.add('colab-df-spinner');\n",
              "      try {\n",
              "        const charts = await google.colab.kernel.invokeFunction(\n",
              "            'suggestCharts', [key], {});\n",
              "      } catch (error) {\n",
              "        console.error('Error during call to suggestCharts:', error);\n",
              "      }\n",
              "      quickchartButtonEl.classList.remove('colab-df-spinner');\n",
              "      quickchartButtonEl.classList.add('colab-df-quickchart-complete');\n",
              "    }\n",
              "    (() => {\n",
              "      let quickchartButtonEl =\n",
              "        document.querySelector('#df-f0278f12-4edc-4f56-8cd0-8b9a59cecc10 button');\n",
              "      quickchartButtonEl.style.display =\n",
              "        google.colab.kernel.accessAllowed ? 'block' : 'none';\n",
              "    })();\n",
              "  </script>\n",
              "</div>\n",
              "\n",
              "    </div>\n",
              "  </div>\n"
            ],
            "application/vnd.google.colaboratory.intrinsic+json": {
              "type": "dataframe",
              "variable_name": "df"
            }
          },
          "metadata": {},
          "execution_count": 28
        }
      ],
      "source": [
        "# Dataset First Look\n",
        "# View top 5 rows of the dataset\n",
        "df.head()"
      ]
    },
    {
      "cell_type": "markdown",
      "metadata": {
        "id": "7hBIi_osiCS2"
      },
      "source": [
        "### Dataset Rows & Columns count"
      ]
    },
    {
      "cell_type": "code",
      "execution_count": 29,
      "metadata": {
        "id": "Kllu7SJgmLij",
        "colab": {
          "base_uri": "https://localhost:8080/"
        },
        "outputId": "c8297cd0-4ba0-4005-fd5d-dba22f96406a"
      },
      "outputs": [
        {
          "output_type": "stream",
          "name": "stdout",
          "text": [
            "Number of rows are:  9551\n",
            "Number of columns are:  21\n"
          ]
        }
      ],
      "source": [
        "# Dataset Rows & Columns count\n",
        "# Checking number of rows and columns of the dataset using shape\n",
        "print(\"Number of rows are: \",df.shape[0])\n",
        "print(\"Number of columns are: \",df.shape[1])"
      ]
    },
    {
      "cell_type": "markdown",
      "metadata": {
        "id": "35m5QtbWiB9F"
      },
      "source": [
        "### Duplicate Values"
      ]
    },
    {
      "cell_type": "code",
      "execution_count": 30,
      "metadata": {
        "id": "1sLdpKYkmox0",
        "colab": {
          "base_uri": "https://localhost:8080/"
        },
        "outputId": "1adb7da5-12bb-400f-9a2d-570e3e7f7326"
      },
      "outputs": [
        {
          "output_type": "stream",
          "name": "stdout",
          "text": [
            "number of duplicated rows are 0\n"
          ]
        }
      ],
      "source": [
        "# Dataset Duplicate Value Count\n",
        "dup = df.duplicated().sum()\n",
        "print(f'number of duplicated rows are {dup}')"
      ]
    },
    {
      "cell_type": "markdown",
      "metadata": {
        "id": "PoPl-ycgm1ru"
      },
      "source": [
        "### Missing Values/Null Values"
      ]
    },
    {
      "cell_type": "code",
      "execution_count": 31,
      "metadata": {
        "id": "GgHWkxvamxVg",
        "colab": {
          "base_uri": "https://localhost:8080/"
        },
        "outputId": "7bf65f57-97b9-4704-bb26-db7402a6dd7e"
      },
      "outputs": [
        {
          "output_type": "execute_result",
          "data": {
            "text/plain": [
              "Restaurant ID           0\n",
              "Restaurant Name         0\n",
              "Country Code            0\n",
              "City                    0\n",
              "Address                 0\n",
              "Locality                0\n",
              "Locality Verbose        0\n",
              "Longitude               0\n",
              "Latitude                0\n",
              "Cuisines                9\n",
              "Average Cost for two    0\n",
              "Currency                0\n",
              "Has Table booking       0\n",
              "Has Online delivery     0\n",
              "Is delivering now       0\n",
              "Switch to order menu    0\n",
              "Price range             0\n",
              "Aggregate rating        0\n",
              "Rating color            0\n",
              "Rating text             0\n",
              "Votes                   0\n",
              "dtype: int64"
            ]
          },
          "metadata": {},
          "execution_count": 31
        }
      ],
      "source": [
        "# Missing Values/Null Values Count\n",
        "df.isnull().sum()"
      ]
    },
    {
      "cell_type": "code",
      "execution_count": 32,
      "metadata": {
        "id": "3q5wnI3om9sJ",
        "colab": {
          "base_uri": "https://localhost:8080/",
          "height": 701
        },
        "outputId": "228d6440-3b77-4576-9bb3-585bdb88653f"
      },
      "outputs": [
        {
          "output_type": "display_data",
          "data": {
            "text/plain": [
              "<Figure size 1000x600 with 2 Axes>"
            ],
            "image/png": "[encoded data removed]"
          },
          "metadata": {}
        }
      ],
      "source": [
        "# Visualizing the missing values\n",
        "# Checking Null Value by Plotting Heatmap\n",
        "\n",
        "# Set the plot size\n",
        "plt.figure(figsize = (10,6))\n",
        "\n",
        "# Create the figure object\n",
        "sns.heatmap(df.isnull().corr(), vmin=-1, annot= True)\n",
        "\n",
        "# Set labels\n",
        "plt.xlabel('Name of columns', fontsize=11)\n",
        "plt.ylabel('Name of columns', fontsize=10)\n",
        "plt.title('Places of missing values in Dataset', fontsize=12)\n",
        "\n",
        "# To show\n",
        "plt.show()"
      ]
    },
    {
      "cell_type": "markdown",
      "metadata": {
        "id": "KwCW2U8-zd2J"
      },
      "source": [
        "#### Handling Missing Values"
      ]
    },
    {
      "cell_type": "code",
      "source": [
        "# If the null values number will high, then we can replace it with any placeholder value. In case if we drop them, we will loss a lot of data\n",
        "# So, since Cuisines column have low number of missing values, that is only 9, i have dropping the same\n",
        "df = df.dropna(subset=['Cuisines'])"
      ],
      "metadata": {
        "id": "jnaSLsKLIn0Z"
      },
      "execution_count": 33,
      "outputs": []
    },
    {
      "cell_type": "code",
      "source": [
        "# Checking missing values again for confirmation\n",
        "print(\"Missing values/null values count after handling:\")\n",
        "df.isna().sum()"
      ],
      "metadata": {
        "colab": {
          "base_uri": "https://localhost:8080/"
        },
        "id": "zO5L5EM92TTG",
        "outputId": "a3b27698-6e1d-4295-b01b-ce66a98c9e25"
      },
      "execution_count": 34,
      "outputs": [
        {
          "output_type": "stream",
          "name": "stdout",
          "text": [
            "Missing values/null values count after handling:\n"
          ]
        },
        {
          "output_type": "execute_result",
          "data": {
            "text/plain": [
              "Restaurant ID           0\n",
              "Restaurant Name         0\n",
              "Country Code            0\n",
              "City                    0\n",
              "Address                 0\n",
              "Locality                0\n",
              "Locality Verbose        0\n",
              "Longitude               0\n",
              "Latitude                0\n",
              "Cuisines                0\n",
              "Average Cost for two    0\n",
              "Currency                0\n",
              "Has Table booking       0\n",
              "Has Online delivery     0\n",
              "Is delivering now       0\n",
              "Switch to order menu    0\n",
              "Price range             0\n",
              "Aggregate rating        0\n",
              "Rating color            0\n",
              "Rating text             0\n",
              "Votes                   0\n",
              "dtype: int64"
            ]
          },
          "metadata": {},
          "execution_count": 34
        }
      ]
    },
    {
      "cell_type": "markdown",
      "source": [
        "### Data Type Conversion"
      ],
      "metadata": {
        "id": "Aflhxi963n7S"
      }
    },
    {
      "cell_type": "code",
      "execution_count": 35,
      "metadata": {
        "id": "e9hRXRi6meOf",
        "colab": {
          "base_uri": "https://localhost:8080/"
        },
        "outputId": "75b1cc05-93b0-41cd-d523-7614ea1788eb"
      },
      "outputs": [
        {
          "output_type": "stream",
          "name": "stdout",
          "text": [
            "<class 'pandas.core.frame.DataFrame'>\n",
            "Index: 9542 entries, 0 to 9550\n",
            "Data columns (total 21 columns):\n",
            " #   Column                Non-Null Count  Dtype  \n",
            "---  ------                --------------  -----  \n",
            " 0   Restaurant ID         9542 non-null   int64  \n",
            " 1   Restaurant Name       9542 non-null   object \n",
            " 2   Country Code          9542 non-null   int64  \n",
            " 3   City                  9542 non-null   object \n",
            " 4   Address               9542 non-null   object \n",
            " 5   Locality              9542 non-null   object \n",
            " 6   Locality Verbose      9542 non-null   object \n",
            " 7   Longitude             9542 non-null   float64\n",
            " 8   Latitude              9542 non-null   float64\n",
            " 9   Cuisines              9542 non-null   object \n",
            " 10  Average Cost for two  9542 non-null   int64  \n",
            " 11  Currency              9542 non-null   object \n",
            " 12  Has Table booking     9542 non-null   object \n",
            " 13  Has Online delivery   9542 non-null   object \n",
            " 14  Is delivering now     9542 non-null   object \n",
            " 15  Switch to order menu  9542 non-null   object \n",
            " 16  Price range           9542 non-null   int64  \n",
            " 17  Aggregate rating      9542 non-null   float64\n",
            " 18  Rating color          9542 non-null   object \n",
            " 19  Rating text           9542 non-null   object \n",
            " 20  Votes                 9542 non-null   int64  \n",
            "dtypes: float64(3), int64(5), object(13)\n",
            "memory usage: 1.6+ MB\n"
          ]
        }
      ],
      "source": [
        "# Dataset Information\n",
        "# Checking information about the dataset using info\n",
        "df.info()"
      ]
    },
    {
      "cell_type": "markdown",
      "source": [
        "Data type conversion is not needed here, everything is looking fine."
      ],
      "metadata": {
        "id": "3_-i9fn13vln"
      }
    },
    {
      "cell_type": "markdown",
      "source": [
        "### Distribution of The Target Variable"
      ],
      "metadata": {
        "id": "IC0Xd-6o4CUO"
      }
    },
    {
      "cell_type": "code",
      "source": [
        "# Distribution of the target variable (\"Aggregate rating\") and identify class imbalance\n",
        "target_counts = df['Aggregate rating'].value_counts()\n",
        "print(\"Distribution of target variable:\")\n",
        "print(target_counts)"
      ],
      "metadata": {
        "colab": {
          "base_uri": "https://localhost:8080/"
        },
        "id": "Szg_CWpX3tYZ",
        "outputId": "6b767555-b38f-462b-8ed2-822fe8d89592"
      },
      "execution_count": 36,
      "outputs": [
        {
          "output_type": "stream",
          "name": "stdout",
          "text": [
            "Distribution of target variable:\n",
            "Aggregate rating\n",
            "0.0    2148\n",
            "3.2     522\n",
            "3.1     519\n",
            "3.4     495\n",
            "3.3     483\n",
            "3.5     480\n",
            "3.0     468\n",
            "3.6     458\n",
            "3.7     427\n",
            "3.8     399\n",
            "2.9     381\n",
            "3.9     332\n",
            "2.8     315\n",
            "4.1     274\n",
            "4.0     266\n",
            "2.7     250\n",
            "4.2     221\n",
            "2.6     191\n",
            "4.3     174\n",
            "4.4     143\n",
            "2.5     110\n",
            "4.5      95\n",
            "2.4      87\n",
            "4.6      78\n",
            "4.9      61\n",
            "2.3      47\n",
            "4.7      41\n",
            "2.2      27\n",
            "4.8      25\n",
            "2.1      15\n",
            "2.0       7\n",
            "1.9       2\n",
            "1.8       1\n",
            "Name: count, dtype: int64\n"
          ]
        }
      ]
    },
    {
      "cell_type": "markdown",
      "metadata": {
        "id": "H0kj-8xxnORC"
      },
      "source": [
        "### What did i found from the level 1 (task 1)?"
      ]
    },
    {
      "cell_type": "markdown",
      "metadata": {
        "id": "gfoNAAC-nUe_"
      },
      "source": [
        "* The Restuarant dataset consists of various restuarants information of different cities. Includes information such as restaurant name, city, address, locality, cuisines, rating and price range, among other things.\n",
        "* There are 9551 rows and 21 columns provided in the data.\n",
        "* Null values are only present in cuisines; Since there are only few null values present in cuisines (only 9) i will remove them from the data.\n",
        "* No duplicate values exist.\n",
        "* Data type conversion not required.\n",
        "* Distribution of the target variable (\"Aggregate rating\") well balanced."
      ]
    },
    {
      "cell_type": "markdown",
      "source": [
        "## ***Task 2: Descriptive Analysis***"
      ],
      "metadata": {
        "id": "61zgxoJ434nM"
      }
    },
    {
      "cell_type": "markdown",
      "source": [
        "### Statistical Measures for Numerical Columns"
      ],
      "metadata": {
        "id": "84KvLVIzkbAJ"
      }
    },
    {
      "cell_type": "code",
      "source": [
        "# Basic statistical measures (mean, median, standard deviation, etc.) for numerical columns\n",
        "# Select Numerical Columns\n",
        "numeric_columns = df.select_dtypes(include=['int', 'float'])\n",
        "\n",
        "# Calculate basic statistical measures using .describe()\n",
        "summary_stats = numeric_columns.describe()\n",
        "print(summary_stats)"
      ],
      "metadata": {
        "colab": {
          "base_uri": "https://localhost:8080/"
        },
        "outputId": "d0fdfaab-ba61-488c-b2f9-9e91cb08c886",
        "id": "_jCCZKC_kbAj"
      },
      "execution_count": 13,
      "outputs": [
        {
          "output_type": "stream",
          "name": "stdout",
          "text": [
            "       Restaurant ID  Country Code    Longitude     Latitude  \\\n",
            "count   9.542000e+03   9542.000000  9542.000000  9542.000000   \n",
            "mean    9.043301e+06     18.179208    64.274997    25.848532   \n",
            "std     8.791967e+06     56.451600    41.197602    11.010094   \n",
            "min     5.300000e+01      1.000000  -157.948486   -41.330428   \n",
            "25%     3.019312e+05      1.000000    77.081565    28.478658   \n",
            "50%     6.002726e+06      1.000000    77.192031    28.570444   \n",
            "75%     1.835260e+07      1.000000    77.282043    28.642711   \n",
            "max     1.850065e+07    216.000000   174.832089    55.976980   \n",
            "\n",
            "       Average Cost for two  Price range  Aggregate rating         Votes  \n",
            "count           9542.000000  9542.000000       9542.000000   9542.000000  \n",
            "mean            1200.326137     1.804968          2.665238    156.772060  \n",
            "std            16128.743876     0.905563          1.516588    430.203324  \n",
            "min                0.000000     1.000000          0.000000      0.000000  \n",
            "25%              250.000000     1.000000          2.500000      5.000000  \n",
            "50%              400.000000     2.000000          3.200000     31.000000  \n",
            "75%              700.000000     2.000000          3.700000    130.000000  \n",
            "max           800000.000000     4.000000          4.900000  10934.000000  \n"
          ]
        }
      ]
    },
    {
      "cell_type": "code",
      "source": [
        "# Individual statistics\n",
        "# Calculate mean for numerical columns\n",
        "mean = numeric_columns.mean()\n",
        "print(f\"Mean for numerical columns:\\n{mean}\")"
      ],
      "metadata": {
        "colab": {
          "base_uri": "https://localhost:8080/"
        },
        "id": "kPH9akv574Sz",
        "outputId": "189529ee-bc93-421f-ba8d-7801416fff0d"
      },
      "execution_count": 14,
      "outputs": [
        {
          "output_type": "stream",
          "name": "stdout",
          "text": [
            "Mean for numerical columns:\n",
            "Restaurant ID           9.043301e+06\n",
            "Country Code            1.817921e+01\n",
            "Longitude               6.427500e+01\n",
            "Latitude                2.584853e+01\n",
            "Average Cost for two    1.200326e+03\n",
            "Price range             1.804968e+00\n",
            "Aggregate rating        2.665238e+00\n",
            "Votes                   1.567721e+02\n",
            "dtype: float64\n"
          ]
        }
      ]
    },
    {
      "cell_type": "code",
      "source": [
        "# Calculate median for numerical columns\n",
        "median = numeric_columns.median()\n",
        "print(f\"\\nMedian for numerical columns:\\n{median}\")"
      ],
      "metadata": {
        "colab": {
          "base_uri": "https://localhost:8080/"
        },
        "id": "l1VoAvAAxPYF",
        "outputId": "dc61327f-73e4-449c-a33b-e47114d8ae3f"
      },
      "execution_count": 15,
      "outputs": [
        {
          "output_type": "stream",
          "name": "stdout",
          "text": [
            "\n",
            "Median for numerical columns:\n",
            "Restaurant ID           6.002726e+06\n",
            "Country Code            1.000000e+00\n",
            "Longitude               7.719203e+01\n",
            "Latitude                2.857044e+01\n",
            "Average Cost for two    4.000000e+02\n",
            "Price range             2.000000e+00\n",
            "Aggregate rating        3.200000e+00\n",
            "Votes                   3.100000e+01\n",
            "dtype: float64\n"
          ]
        }
      ]
    },
    {
      "cell_type": "code",
      "source": [
        "# Calculate standard deviation for numerical columns\n",
        "std_dev = numeric_columns.std()\n",
        "print(f\"\\nStandard deviation for numerical columns:\\n{std_dev}\")"
      ],
      "metadata": {
        "colab": {
          "base_uri": "https://localhost:8080/"
        },
        "id": "DwfDiNvTqyXj",
        "outputId": "105e7a46-cd64-4e6d-994f-8637ee9add61"
      },
      "execution_count": 16,
      "outputs": [
        {
          "output_type": "stream",
          "name": "stdout",
          "text": [
            "\n",
            "Standard deviation for numerical columns:\n",
            "Restaurant ID           8.791967e+06\n",
            "Country Code            5.645160e+01\n",
            "Longitude               4.119760e+01\n",
            "Latitude                1.101009e+01\n",
            "Average Cost for two    1.612874e+04\n",
            "Price range             9.055631e-01\n",
            "Aggregate rating        1.516588e+00\n",
            "Votes                   4.302033e+02\n",
            "dtype: float64\n"
          ]
        }
      ]
    },
    {
      "cell_type": "markdown",
      "source": [
        "### Distribution of Categorical Variables"
      ],
      "metadata": {
        "id": "orfpYuSIxaQA"
      }
    },
    {
      "cell_type": "code",
      "source": [
        "# Distribution of categorical variables like 'Country Code', 'City', and 'Cuisines'\n",
        "\n",
        "# Count Plot Visualization Code for Country Codes\n",
        "# Set plot size\n",
        "plt.figure(figsize=(8, 5))\n",
        "\n",
        "# Create the figure object\n",
        "sns.countplot(x = df['Country Code'])\n",
        "\n",
        "# Set Labels\n",
        "plt.xlabel('Country Codes')\n",
        "plt.ylabel('Number of Restaurants')\n",
        "plt.title('Distribution of Restaurants by Country Codes')\n",
        "\n",
        "# Display Chart\n",
        "plt.show()"
      ],
      "metadata": {
        "colab": {
          "base_uri": "https://localhost:8080/",
          "height": 487
        },
        "outputId": "08b343b3-c2f0-4a1f-f982-d93a2a209eb1",
        "id": "yoqbHihSxaQL"
      },
      "execution_count": 17,
      "outputs": [
        {
          "output_type": "display_data",
          "data": {
            "text/plain": [
              "<Figure size 800x500 with 1 Axes>"
            ],
            "image/png": "[encoded data removed]"
          },
          "metadata": {}
        }
      ]
    },
    {
      "cell_type": "code",
      "source": [
        "# Count Plot Visualization Code for Cities\n",
        "# Set plot size\n",
        "plt.figure(figsize=(8, 5))\n",
        "\n",
        "# Create the figure object\n",
        "# There are many cities names present in the data, so i select only the top 10 cities\n",
        "sns.countplot(y = df['City'], order=df.City.value_counts().iloc[:10].index)\n",
        "\n",
        "# Set Labels\n",
        "plt.xlabel('Number of Restaurants')\n",
        "plt.ylabel('Name of Cities')\n",
        "plt.title('Top 10 Cities with Highest Number of Restaurants')\n",
        "\n",
        "# Display Chart\n",
        "plt.show()"
      ],
      "metadata": {
        "colab": {
          "base_uri": "https://localhost:8080/",
          "height": 487
        },
        "id": "7mYyldsD0hF-",
        "outputId": "c7e70930-d8c4-471c-d57b-386279a5112c"
      },
      "execution_count": 18,
      "outputs": [
        {
          "output_type": "display_data",
          "data": {
            "text/plain": [
              "<Figure size 800x500 with 1 Axes>"
            ],
            "image/png": "[encoded data removed]"
          },
          "metadata": {}
        }
      ]
    },
    {
      "cell_type": "code",
      "source": [
        "# Count Plot Visualization Code for Cuisines\n",
        "# Set plot size\n",
        "plt.figure(figsize=(8, 5))\n",
        "\n",
        "# Create the figure object\n",
        "# There are many cuisine names present in the data, so i select only the top 10 cuisines\n",
        "sns.countplot(y = df['Cuisines'], order=df.Cuisines.value_counts().iloc[:10].index)\n",
        "\n",
        "# Set Labels\n",
        "plt.xlabel('Number of Restaurants')\n",
        "plt.ylabel('Name of Cuisines')\n",
        "plt.title('Top 10 Cuisines with Highest Number of Restaurants')\n",
        "\n",
        "# Display Chart\n",
        "plt.show()"
      ],
      "metadata": {
        "colab": {
          "base_uri": "https://localhost:8080/",
          "height": 487
        },
        "id": "nldLQUS_288z",
        "outputId": "b9c0eac4-cbb6-4354-921b-9716c7000acd"
      },
      "execution_count": 25,
      "outputs": [
        {
          "output_type": "display_data",
          "data": {
            "text/plain": [
              "<Figure size 800x500 with 1 Axes>"
            ],
            "image/png": "[encoded data removed]"
          },
          "metadata": {}
        }
      ]
    },
    {
      "cell_type": "markdown",
      "source": [
        "### Top Cuisines and Cities"
      ],
      "metadata": {
        "id": "iZ4LzPMO4Hnx"
      }
    },
    {
      "cell_type": "code",
      "source": [
        "# Top cuisines and cities with the highest number of restaurants\n",
        "\n",
        "# Identify the top 10 cuisines\n",
        "top_cuisines = df['Cuisines'].value_counts().head(10)\n",
        "\n",
        "# Display the results\n",
        "print(\"Top 10 Cuisines with Highest Number of Restaurants:\")\n",
        "print(top_cuisines)"
      ],
      "metadata": {
        "id": "eiFgLY9G09Qe"
      },
      "execution_count": null,
      "outputs": []
    },
    {
      "cell_type": "code",
      "source": [
        "# Identify the top 10 cities\n",
        "top_cities = df['City'].value_counts().head(10)\n",
        "\n",
        "# Display the results\n",
        "print(\"Top 10 Cities with Highest Number of Restaurants:\")\n",
        "print(top_cities)"
      ],
      "metadata": {
        "id": "cvuGdmP45QH8"
      },
      "execution_count": null,
      "outputs": []
    },
    {
      "cell_type": "markdown",
      "metadata": {
        "id": "9NlRz_uhw7lY"
      },
      "source": [
        "### What did i found from the level 1 (task 2)?"
      ]
    },
    {
      "cell_type": "markdown",
      "metadata": {
        "id": "vs4Pc9zAw7lZ"
      },
      "source": [
        "* Found the mean, median, mode values and other statistical measures for the numerical columns like 'Restaurant ID', 'Longitude', 'Latitude', 'Price range', etc.\n",
        "* Country code 1 and 216 are with highest number of restaurants.\n",
        "* New Delhi, Gurgaon and Noida are in top with highest number of restaurants.\n",
        "* North Indian and Chinese cuisine are in top with highest number of restaurants."
      ]
    },
    {
      "cell_type": "markdown",
      "source": [
        "## ***Task 3: Geospatial Analysis***"
      ],
      "metadata": {
        "id": "8qU3c8mF0PK0"
      }
    },
    {
      "cell_type": "markdown",
      "source": [
        "### Visualize Locations of Restaurants"
      ],
      "metadata": {
        "id": "dAGPSHQ3Dl66"
      }
    },
    {
      "cell_type": "code",
      "source": [
        "# Locations of restaurants on a map using latitude and longitude information\n",
        "# Import the necessary libraries\n",
        "from shapely.geometry import Point\n",
        "import geopandas as gpd\n",
        "from geopandas import GeoDataFrame\n",
        "\n",
        "# Create Point geometry from latitude and longitude using Shapely\n",
        "gdf = gpd.GeoDataFrame(\n",
        "    df,\n",
        "    geometry=gpd.points_from_xy(df.Longitude, df.Latitude)\n",
        ")\n",
        "\n",
        "# Create a base map of the world using Geopandas\n",
        "world = gpd.read_file(gpd.datasets.get_path('naturalearth_lowres'))\n",
        "\n",
        "# Create a map that fits the screen and plots the restaurant locations\n",
        "# The \"continent\" column is used for coloring and a legend is displayed\n",
        "gdf.plot(ax=world.plot(\"continent\", legend = True, figsize=(14, 12)), marker='o', color='red', markersize=15)\n",
        "\n",
        "# Show the map\n",
        "plt.show()"
      ],
      "metadata": {
        "id": "UeZSZAjazfXX"
      },
      "execution_count": null,
      "outputs": []
    },
    {
      "cell_type": "markdown",
      "source": [
        "### Distribution of Restaurants by City"
      ],
      "metadata": {
        "id": "gFnx8GyK5s6K"
      }
    },
    {
      "cell_type": "code",
      "source": [
        "# Distribution of restaurants across different cities or countries\n",
        "# Set plot size\n",
        "plt.figure(figsize=(8, 5))\n",
        "\n",
        "# Create the figure object\n",
        "# There are many cities names present in the data, so i select only the top 10 cities\n",
        "sns.countplot(y = df['City'], order=df.City.value_counts().iloc[:10].index)\n",
        "\n",
        "# Set Labels\n",
        "plt.xlabel('Number of Restaurants')\n",
        "plt.ylabel('Name of Cities')\n",
        "plt.title('Distribution of Restaurants Across Cities')\n",
        "\n",
        "# Display Chart\n",
        "plt.show()"
      ],
      "metadata": {
        "id": "i6tpLIsa2Qkt"
      },
      "execution_count": null,
      "outputs": []
    },
    {
      "cell_type": "markdown",
      "source": [
        "### Correlation Between the Restaurant's Location and its Rating"
      ],
      "metadata": {
        "id": "aKrKztfy_egD"
      }
    },
    {
      "cell_type": "code",
      "source": [
        "# Checking correlation between the restaurant's location and its rating\n",
        "# Set plot size\n",
        "plt.figure(figsize=(10, 6))\n",
        "\n",
        "# Calculate the correlation between latitude, longitude, and ratings\n",
        "correlation_matrix = df[['Latitude', 'Longitude', 'Aggregate rating']].corr()\n",
        "\n",
        "# Create a heatmap to visualize the correlation\n",
        "sns.heatmap(correlation_matrix, annot=True, cmap='coolwarm', fmt=\".2f\")\n",
        "\n",
        "# Set Title\n",
        "plt.title(\"Correlation Between Restaurant's location and Rating\")\n",
        "\n",
        "# Display Chart\n",
        "plt.show()"
      ],
      "metadata": {
        "id": "M7Zy1LpX5HXU"
      },
      "execution_count": null,
      "outputs": []
    },
    {
      "cell_type": "markdown",
      "source": [
        "# ***Conclusion***"
      ],
      "metadata": {
        "id": "hsoGnllh1Kbb"
      }
    },
    {
      "cell_type": "markdown",
      "source": [
        "The insights which i found from the overall level 1 project:\n",
        "\n",
        "**Data Overview:**\n",
        "\n",
        "- The dataset includes restaurant details across various cities with 9,551 rows and 21 columns.\n",
        "- Minimal null values (9) were found only in the 'Cuisines' column.\n",
        "- No duplicates exist, and data type conversion wasn't needed.\n",
        "- The 'Aggregate rating' distribution is well-balanced.\n",
        "\n",
        "**Descriptive Insights:**\n",
        "\n",
        "- Key statistical measures for numerical columns were identified.\n",
        "- Country codes 1 and 216 have the most restaurants.\n",
        "- New Delhi, Gurgaon, and Noida are top cities with the highest restaurant counts.\n",
        "- North Indian and Chinese cuisines are most popular.\n",
        "\n",
        "**Geospatial Analysis:**\n",
        "\n",
        "- North America and Asia (mainly India) have the most number of restaurants.\n",
        "- New Delhi leads in the number of restaurants, followed by Gurgaon, Noida, and Faridabad.\n",
        "- Latitude and rating show no correlation, while longitude and rating are negatively correlated.\n",
        "\n",
        "These insights offer a comprehensive analysis of the restaurant dataset reveals key data characteristics, descriptive insights, and geospatial patterns, informs further analysis."
      ],
      "metadata": {
        "id": "ZkYEW3On28lr"
      }
    }
  ]
}